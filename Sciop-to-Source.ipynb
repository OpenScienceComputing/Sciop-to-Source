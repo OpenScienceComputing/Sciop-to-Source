{
 "cells": [
  {
   "cell_type": "markdown",
   "id": "3c4787b9-ce7a-4385-8314-dd92555c1c42",
   "metadata": {},
   "source": [
    "# Sciop to Source\n",
    "* Download dataset from Sciop via Bittorrent\n",
    "* Upload dataset to Sourc.coop\n",
    "* Visualize the dataset from the bucket\n",
    "*\n",
    "\n",
    "Here we are using a notebook for documentation and visualization, but the real work is done by two CLI commands: (1) download the data using the ARIA2 CLI and (2) push to bucket using the AWS CLI. \n",
    "\n",
    "This could be run on any computer:\n",
    "```\n",
    "$ export AWS_REQUEST_CHECKSUM_CALCULATION=WHEN_REQUIRED\n",
    "$ conda install aria2 awscli \n",
    "$ aria2c --seed-time=0 https://sciop.net/torrents/9840fa77d032a3821180f7f1726df02431e37e53/estuarine-bathymetric-digital-elevation-models.torrent\n",
    "$ aws s3 sync s3 estuarine-bathymetry-digital-elevation-models/ s3://pangeo/esip2025\n",
    "```"
   ]
  },
  {
   "cell_type": "markdown",
   "id": "87ba029b-a418-4ee4-8f05-518ad317b054",
   "metadata": {},
   "source": [
    "## 1. Download the dataset\n",
    "Obtain from Sciop using bittorrent "
   ]
  },
  {
   "cell_type": "code",
   "execution_count": null,
   "id": "305a05fc-ad76-43a9-8af0-89982d954e99",
   "metadata": {},
   "outputs": [],
   "source": [
    "! aria2c --seed-time=0 https://sciop.net/torrents/9840fa77d032a3821180f7f1726df02431e37e53/estuarine-bathymetric-digital-elevation-models.torrent"
   ]
  },
  {
   "cell_type": "markdown",
   "id": "df227709-f0d5-48bc-b73e-8d5854d8adb3",
   "metadata": {},
   "source": [
    "## 2. Upload the dataset\n",
    "Push to Source.coop AWS bucket (in us-west-2 region)"
   ]
  },
  {
   "cell_type": "code",
   "execution_count": null,
   "id": "a8dc08d5-4e0a-40de-a24a-e4987fe1e928",
   "metadata": {},
   "outputs": [],
   "source": [
    "%%time\n",
    "! aws s3 sync estuarine-bathymetric-digital-elevation-models s3://pangeo/esip2025 --endpoint-url=https://data.source.coop"
   ]
  },
  {
   "cell_type": "markdown",
   "id": "d7fb3d70-32d2-4107-a747-0070d6b72eb5",
   "metadata": {},
   "source": [
    "## 3. Visualize the dataset\n",
    "Use the Holoviz tools to interactively explore the data directly from the bucket"
   ]
  },
  {
   "cell_type": "code",
   "execution_count": null,
   "id": "ac9608e8-d264-4acf-bd1f-f38616b6fba8",
   "metadata": {},
   "outputs": [],
   "source": [
    "import fsspec\n",
    "import xarray as xr\n",
    "import hvplot.xarray"
   ]
  },
  {
   "cell_type": "code",
   "execution_count": null,
   "id": "da8d70bb-7eed-445a-8fd5-43da7184a5cf",
   "metadata": {},
   "outputs": [],
   "source": [
    "fs_read = fsspec.filesystem('s3', anon=True, endpoint_url='https://data.source.coop', use_listings_cache=False, skip_instance_cache=True)"
   ]
  },
  {
   "cell_type": "code",
   "execution_count": null,
   "id": "9eb2b7bc-2780-4da3-ab7d-49bbde6866dc",
   "metadata": {},
   "outputs": [],
   "source": [
    "ds = xr.open_dataset(fs_read.open('pangeo/esip2025/Buzzards_Bay/buzzards_bay_m010_30m.nc'))"
   ]
  },
  {
   "cell_type": "code",
   "execution_count": null,
   "id": "d771a26d-e48a-4c8e-b79c-42584f7ebce9",
   "metadata": {},
   "outputs": [],
   "source": [
    "ds['Band1'].hvplot(x='x', y='y', crs='EPSG:26919', rasterize=True, tiles='OSM', cmap='viridis')"
   ]
  },
  {
   "cell_type": "code",
   "execution_count": null,
   "id": "116dd64f-7191-46a7-bb76-d8e0e7c35e10",
   "metadata": {},
   "outputs": [],
   "source": [
    "fs_read.du('s3://pangeo/esip2025/')/1e9   # GB"
   ]
  },
  {
   "cell_type": "code",
   "execution_count": null,
   "id": "0f327648-a379-4acb-9b29-97f0f0a67ec3",
   "metadata": {},
   "outputs": [],
   "source": [
    "fs_read.ls('s3://pangeo/esip2025/Buzzards_Bay')"
   ]
  },
  {
   "cell_type": "code",
   "execution_count": null,
   "id": "a67566c3-9190-4b18-8aab-3e4ce2b5bec2",
   "metadata": {},
   "outputs": [],
   "source": [
    "ds"
   ]
  },
  {
   "cell_type": "code",
   "execution_count": null,
   "id": "e0a4a004-c294-44cb-a8fe-99ccc164a84a",
   "metadata": {},
   "outputs": [],
   "source": [
    "### Cleanup"
   ]
  },
  {
   "cell_type": "code",
   "execution_count": null,
   "id": "bb0afe18-866a-46ad-9f88-eddc55592e0e",
   "metadata": {},
   "outputs": [],
   "source": [
    "# ! aws s3 rm  s3://pangeo/esip2025 --endpoint-url=https://data.source.coop --recursive\n",
    "# ! aws s3 ls  s3://pangeo/esip2025 --endpoint-url=https://data.source.coop -"
   ]
  }
 ],
 "metadata": {
  "kernelspec": {
   "display_name": "Python 3 (ipykernel)",
   "language": "python",
   "name": "python3"
  },
  "language_info": {
   "codemirror_mode": {
    "name": "ipython",
    "version": 3
   },
   "file_extension": ".py",
   "mimetype": "text/x-python",
   "name": "python",
   "nbconvert_exporter": "python",
   "pygments_lexer": "ipython3",
   "version": "3.12.11"
  },
  "widgets": {
   "application/vnd.jupyter.widget-state+json": {
    "state": {},
    "version_major": 2,
    "version_minor": 0
   }
  }
 },
 "nbformat": 4,
 "nbformat_minor": 5
}
